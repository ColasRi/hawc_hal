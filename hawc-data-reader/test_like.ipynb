{
 "cells": [
  {
   "cell_type": "code",
   "execution_count": 1,
   "metadata": {
    "collapsed": false,
    "deletable": true,
    "editable": true
   },
   "outputs": [
    {
     "name": "stdout",
     "output_type": "stream",
     "text": [
      "Configuration read from /home/giacomov/.threeML/threeML_config.yml\n",
      "Plotter is MatPlotlib\n"
     ]
    }
   ],
   "source": [
    "from threeML import *\n",
    "from HAWCpyLike import HAWCpyLike\n",
    "import region_of_interest\n",
    "\n",
    "%matplotlib notebook"
   ]
  },
  {
   "cell_type": "code",
   "execution_count": 2,
   "metadata": {
    "collapsed": false,
    "deletable": true,
    "editable": true
   },
   "outputs": [
    {
     "name": "stdout",
     "output_type": "stream",
     "text": [
      "Response: \n",
      "----------\n",
      "\n",
      "Response file: /home/giacomov/science/hawc/data/response.root\n",
      "Number of dec bins: 106\n",
      "Number of energy/nHit planes per dec bin: 10\n",
      "\n",
      "Map Tree: \n",
      "----------\n",
      "\n"
     ]
    },
    {
     "data": {
      "text/html": [
       "<div>\n",
       "<style scoped>\n",
       "    .dataframe tbody tr th:only-of-type {\n",
       "        vertical-align: middle;\n",
       "    }\n",
       "\n",
       "    .dataframe tbody tr th {\n",
       "        vertical-align: top;\n",
       "    }\n",
       "\n",
       "    .dataframe thead th {\n",
       "        text-align: right;\n",
       "    }\n",
       "</style>\n",
       "<table border=\"1\" class=\"dataframe\">\n",
       "  <thead>\n",
       "    <tr style=\"text-align: right;\">\n",
       "      <th></th>\n",
       "      <th>Bin</th>\n",
       "      <th>Nside</th>\n",
       "      <th>Scheme</th>\n",
       "      <th>Obs counts</th>\n",
       "      <th>Bkg counts</th>\n",
       "      <th>obs/bkg</th>\n",
       "      <th>Pixels in ROI</th>\n",
       "      <th>Area (deg^2)</th>\n",
       "    </tr>\n",
       "  </thead>\n",
       "  <tbody>\n",
       "    <tr>\n",
       "      <th>0</th>\n",
       "      <td>0</td>\n",
       "      <td>1024</td>\n",
       "      <td>RING</td>\n",
       "      <td>2.359288e+09</td>\n",
       "      <td>2.358957e+09</td>\n",
       "      <td>1.000141</td>\n",
       "      <td>23947</td>\n",
       "      <td>78.510019</td>\n",
       "    </tr>\n",
       "    <tr>\n",
       "      <th>1</th>\n",
       "      <td>1</td>\n",
       "      <td>1024</td>\n",
       "      <td>RING</td>\n",
       "      <td>1.563526e+08</td>\n",
       "      <td>1.562712e+08</td>\n",
       "      <td>1.000521</td>\n",
       "      <td>23947</td>\n",
       "      <td>78.510019</td>\n",
       "    </tr>\n",
       "    <tr>\n",
       "      <th>2</th>\n",
       "      <td>2</td>\n",
       "      <td>1024</td>\n",
       "      <td>RING</td>\n",
       "      <td>5.008916e+07</td>\n",
       "      <td>5.004267e+07</td>\n",
       "      <td>1.000929</td>\n",
       "      <td>23947</td>\n",
       "      <td>78.510019</td>\n",
       "    </tr>\n",
       "    <tr>\n",
       "      <th>3</th>\n",
       "      <td>3</td>\n",
       "      <td>1024</td>\n",
       "      <td>RING</td>\n",
       "      <td>1.370908e+07</td>\n",
       "      <td>1.367816e+07</td>\n",
       "      <td>1.002261</td>\n",
       "      <td>23947</td>\n",
       "      <td>78.510019</td>\n",
       "    </tr>\n",
       "    <tr>\n",
       "      <th>4</th>\n",
       "      <td>4</td>\n",
       "      <td>1024</td>\n",
       "      <td>RING</td>\n",
       "      <td>1.748741e+06</td>\n",
       "      <td>1.737266e+06</td>\n",
       "      <td>1.006605</td>\n",
       "      <td>23947</td>\n",
       "      <td>78.510019</td>\n",
       "    </tr>\n",
       "    <tr>\n",
       "      <th>5</th>\n",
       "      <td>5</td>\n",
       "      <td>1024</td>\n",
       "      <td>RING</td>\n",
       "      <td>3.882100e+05</td>\n",
       "      <td>3.829631e+05</td>\n",
       "      <td>1.013701</td>\n",
       "      <td>23947</td>\n",
       "      <td>78.510019</td>\n",
       "    </tr>\n",
       "    <tr>\n",
       "      <th>6</th>\n",
       "      <td>6</td>\n",
       "      <td>1024</td>\n",
       "      <td>RING</td>\n",
       "      <td>7.008800e+04</td>\n",
       "      <td>6.834725e+04</td>\n",
       "      <td>1.025469</td>\n",
       "      <td>23947</td>\n",
       "      <td>78.510019</td>\n",
       "    </tr>\n",
       "    <tr>\n",
       "      <th>7</th>\n",
       "      <td>7</td>\n",
       "      <td>1024</td>\n",
       "      <td>RING</td>\n",
       "      <td>4.146500e+04</td>\n",
       "      <td>4.048585e+04</td>\n",
       "      <td>1.024185</td>\n",
       "      <td>23947</td>\n",
       "      <td>78.510019</td>\n",
       "    </tr>\n",
       "    <tr>\n",
       "      <th>8</th>\n",
       "      <td>8</td>\n",
       "      <td>1024</td>\n",
       "      <td>RING</td>\n",
       "      <td>1.119500e+04</td>\n",
       "      <td>1.084205e+04</td>\n",
       "      <td>1.032553</td>\n",
       "      <td>23947</td>\n",
       "      <td>78.510019</td>\n",
       "    </tr>\n",
       "    <tr>\n",
       "      <th>9</th>\n",
       "      <td>9</td>\n",
       "      <td>1024</td>\n",
       "      <td>RING</td>\n",
       "      <td>1.546200e+04</td>\n",
       "      <td>1.503629e+04</td>\n",
       "      <td>1.028312</td>\n",
       "      <td>23947</td>\n",
       "      <td>78.510019</td>\n",
       "    </tr>\n",
       "  </tbody>\n",
       "</table>\n",
       "</div>"
      ],
      "text/plain": [
       "  Bin  Nside Scheme    Obs counts    Bkg counts   obs/bkg  Pixels in ROI  \\\n",
       "0   0   1024   RING  2.359288e+09  2.358957e+09  1.000141          23947   \n",
       "1   1   1024   RING  1.563526e+08  1.562712e+08  1.000521          23947   \n",
       "2   2   1024   RING  5.008916e+07  5.004267e+07  1.000929          23947   \n",
       "3   3   1024   RING  1.370908e+07  1.367816e+07  1.002261          23947   \n",
       "4   4   1024   RING  1.748741e+06  1.737266e+06  1.006605          23947   \n",
       "5   5   1024   RING  3.882100e+05  3.829631e+05  1.013701          23947   \n",
       "6   6   1024   RING  7.008800e+04  6.834725e+04  1.025469          23947   \n",
       "7   7   1024   RING  4.146500e+04  4.048585e+04  1.024185          23947   \n",
       "8   8   1024   RING  1.119500e+04  1.084205e+04  1.032553          23947   \n",
       "9   9   1024   RING  1.546200e+04  1.503629e+04  1.028312          23947   \n",
       "\n",
       "   Area (deg^2)  \n",
       "0     78.510019  \n",
       "1     78.510019  \n",
       "2     78.510019  \n",
       "3     78.510019  \n",
       "4     78.510019  \n",
       "5     78.510019  \n",
       "6     78.510019  \n",
       "7     78.510019  \n",
       "8     78.510019  \n",
       "9     78.510019  "
      ]
     },
     "metadata": {},
     "output_type": "display_data"
    },
    {
     "name": "stdout",
     "output_type": "stream",
     "text": [
      "This Map Tree contains 911.282 transits\n",
      "Total data size: 1.91576 Mbyte\n",
      "\n",
      "Active energy/nHit planes: \n",
      "---------------------------\n",
      "\n",
      "[1, 2, 3, 4, 5, 6, 7, 8, 9]\n"
     ]
    }
   ],
   "source": [
    "ra_crab, dec_crab = 83.633083, 22.014500\n",
    "\n",
    "roi = region_of_interest.HealpixConeROI(5.0, ra=ra_crab, dec=dec_crab)\n",
    "\n",
    "hawc = HAWCpyLike(\"HAWC\", \n",
    "                  \"/home/giacomov/science/hawc/data/maptree_1024.root\", \n",
    "                  \"/home/giacomov/science/hawc/data/response.root\",\n",
    "                 roi)\n",
    "\n",
    "hawc.set_active_measurements(1, 9)\n",
    "\n",
    "hawc.display()"
   ]
  },
  {
   "cell_type": "code",
   "execution_count": 3,
   "metadata": {
    "collapsed": false,
    "deletable": true,
    "editable": true
   },
   "outputs": [
    {
     "name": "stdout",
     "output_type": "stream",
     "text": [
      "Using dec bin 57 for source CrabNebula\n"
     ]
    },
    {
     "name": "stderr",
     "output_type": "stream",
     "text": [
      "Widget Javascript not detected.  It may not be installed or enabled properly.\n"
     ]
    },
    {
     "data": {
      "application/vnd.jupyter.widget-view+json": {
       "model_id": "dac4d6292dfc4259949b543286903593"
      }
     },
     "metadata": {},
     "output_type": "display_data"
    }
   ],
   "source": [
    "spectrum = Log_parabola()\n",
    "\n",
    "source = PointSource(\"CrabNebula\", ra=ra_crab, dec=dec_crab, spectral_shape=spectrum)\n",
    "\n",
    "# NOTE: if you use units, you have to set up the values for the parameters\n",
    "# AFTER you create the source, because during creation the function Log_parabola\n",
    "# gets its units\n",
    "\n",
    "spectrum.piv = 10 * u.TeV  # Pivot energy\n",
    "spectrum.piv.fix = True\n",
    "\n",
    "spectrum.K = 1e-14 / (u.TeV * u.cm**2 * u.s)  # norm (in 1/(keV cm2 s))\n",
    "spectrum.K.bounds = (1e-25, 1e-19) # without units energies are in keV\n",
    "\n",
    "spectrum.beta = 0  # log parabolic beta\n",
    "spectrum.beta.bounds = (-4., 2.)\n",
    "\n",
    "spectrum.alpha = -2.5  # log parabolic alpha (index)\n",
    "spectrum.alpha.bounds = (-4., 2.)\n",
    "\n",
    "model = Model(source)\n",
    "\n",
    "data = DataList(hawc)\n",
    "\n",
    "jl = JointLikelihood(model, data)"
   ]
  },
  {
   "cell_type": "code",
   "execution_count": 4,
   "metadata": {
    "collapsed": false,
    "deletable": true,
    "editable": true
   },
   "outputs": [
    {
     "data": {
      "text/latex": [
       "$1.91576 \\; \\mathrm{Mbyte}$"
      ],
      "text/plain": [
       "<Quantity 1.91576 Mbyte>"
      ]
     },
     "execution_count": 4,
     "metadata": {},
     "output_type": "execute_result"
    }
   ],
   "source": [
    "hawc._convolved_point_sources.size"
   ]
  },
  {
   "cell_type": "code",
   "execution_count": 5,
   "metadata": {
    "collapsed": false,
    "deletable": true,
    "editable": true
   },
   "outputs": [
    {
     "data": {
      "text/plain": [
       "-665379.26889922551"
      ]
     },
     "execution_count": 5,
     "metadata": {},
     "output_type": "execute_result"
    }
   ],
   "source": [
    "hawc.get_log_like()\n",
    "\n",
    "#-310426.9997955779"
   ]
  },
  {
   "cell_type": "code",
   "execution_count": 6,
   "metadata": {
    "collapsed": false,
    "deletable": true,
    "editable": true
   },
   "outputs": [
    {
     "name": "stdout",
     "output_type": "stream",
     "text": [
      "Best fit values:\n",
      "\n"
     ]
    },
    {
     "name": "stderr",
     "output_type": "stream",
     "text": [
      "\n",
      "WARNING UserWarning: get_number_of_data_points not implemented, values for statistical measurements such as AIC or BIC are unreliable\n",
      "\n"
     ]
    },
    {
     "data": {
      "text/html": [
       "<div>\n",
       "<style scoped>\n",
       "    .dataframe tbody tr th:only-of-type {\n",
       "        vertical-align: middle;\n",
       "    }\n",
       "\n",
       "    .dataframe tbody tr th {\n",
       "        vertical-align: top;\n",
       "    }\n",
       "\n",
       "    .dataframe thead th {\n",
       "        text-align: right;\n",
       "    }\n",
       "</style>\n",
       "<table border=\"1\" class=\"dataframe\">\n",
       "  <thead>\n",
       "    <tr style=\"text-align: right;\">\n",
       "      <th></th>\n",
       "      <th>result</th>\n",
       "      <th>unit</th>\n",
       "    </tr>\n",
       "    <tr>\n",
       "      <th>parameter</th>\n",
       "      <th></th>\n",
       "      <th></th>\n",
       "    </tr>\n",
       "  </thead>\n",
       "  <tbody>\n",
       "    <tr>\n",
       "      <th>CrabNebula.spectrum.main.Log_parabola.K</th>\n",
       "      <td>(9.88 -0.17 +0.18) x 10^-23</td>\n",
       "      <td>1 / (cm2 keV s)</td>\n",
       "    </tr>\n",
       "    <tr>\n",
       "      <th>CrabNebula.spectrum.main.Log_parabola.alpha</th>\n",
       "      <td>-2.790 +/- 0.020</td>\n",
       "      <td></td>\n",
       "    </tr>\n",
       "    <tr>\n",
       "      <th>CrabNebula.spectrum.main.Log_parabola.beta</th>\n",
       "      <td>(1.570 +/- 0.12) x 10^-1</td>\n",
       "      <td></td>\n",
       "    </tr>\n",
       "  </tbody>\n",
       "</table>\n",
       "</div>"
      ],
      "text/plain": [
       "                                                                  result  \\\n",
       "parameter                                                                  \n",
       "CrabNebula.spectrum.main.Log_parabola.K      (9.88 -0.17 +0.18) x 10^-23   \n",
       "CrabNebula.spectrum.main.Log_parabola.alpha             -2.790 +/- 0.020   \n",
       "CrabNebula.spectrum.main.Log_parabola.beta      (1.570 +/- 0.12) x 10^-1   \n",
       "\n",
       "                                                        unit  \n",
       "parameter                                                     \n",
       "CrabNebula.spectrum.main.Log_parabola.K      1 / (cm2 keV s)  \n",
       "CrabNebula.spectrum.main.Log_parabola.alpha                   \n",
       "CrabNebula.spectrum.main.Log_parabola.beta                    "
      ]
     },
     "metadata": {},
     "output_type": "display_data"
    },
    {
     "name": "stdout",
     "output_type": "stream",
     "text": [
      "\n",
      "Correlation matrix:\n",
      "\n"
     ]
    },
    {
     "data": {
      "text/html": [
       "<table id=\"table139922301500560\">\n",
       "<tr><td>1.00</td><td>-0.17</td><td>0.66</td></tr>\n",
       "<tr><td>-0.17</td><td>1.00</td><td>-0.78</td></tr>\n",
       "<tr><td>0.66</td><td>-0.78</td><td>1.00</td></tr>\n",
       "</table>"
      ],
      "text/plain": [
       " 1.00 -0.17  0.66\n",
       "-0.17  1.00 -0.78\n",
       " 0.66 -0.78  1.00"
      ]
     },
     "metadata": {},
     "output_type": "display_data"
    },
    {
     "name": "stdout",
     "output_type": "stream",
     "text": [
      "\n",
      "Values of -log(likelihood) at the minimum:\n",
      "\n"
     ]
    },
    {
     "data": {
      "text/html": [
       "<div>\n",
       "<style scoped>\n",
       "    .dataframe tbody tr th:only-of-type {\n",
       "        vertical-align: middle;\n",
       "    }\n",
       "\n",
       "    .dataframe tbody tr th {\n",
       "        vertical-align: top;\n",
       "    }\n",
       "\n",
       "    .dataframe thead th {\n",
       "        text-align: right;\n",
       "    }\n",
       "</style>\n",
       "<table border=\"1\" class=\"dataframe\">\n",
       "  <thead>\n",
       "    <tr style=\"text-align: right;\">\n",
       "      <th></th>\n",
       "      <th>-log(likelihood)</th>\n",
       "    </tr>\n",
       "  </thead>\n",
       "  <tbody>\n",
       "    <tr>\n",
       "      <th>HAWC</th>\n",
       "      <td>658296.890516</td>\n",
       "    </tr>\n",
       "    <tr>\n",
       "      <th>total</th>\n",
       "      <td>658296.890516</td>\n",
       "    </tr>\n",
       "  </tbody>\n",
       "</table>\n",
       "</div>"
      ],
      "text/plain": [
       "       -log(likelihood)\n",
       "HAWC      658296.890516\n",
       "total     658296.890516"
      ]
     },
     "metadata": {},
     "output_type": "display_data"
    },
    {
     "name": "stdout",
     "output_type": "stream",
     "text": [
      "\n",
      "Values of statistical measures:\n",
      "\n"
     ]
    },
    {
     "data": {
      "text/html": [
       "<div>\n",
       "<style scoped>\n",
       "    .dataframe tbody tr th:only-of-type {\n",
       "        vertical-align: middle;\n",
       "    }\n",
       "\n",
       "    .dataframe tbody tr th {\n",
       "        vertical-align: top;\n",
       "    }\n",
       "\n",
       "    .dataframe thead th {\n",
       "        text-align: right;\n",
       "    }\n",
       "</style>\n",
       "<table border=\"1\" class=\"dataframe\">\n",
       "  <thead>\n",
       "    <tr style=\"text-align: right;\">\n",
       "      <th></th>\n",
       "      <th>statistical measures</th>\n",
       "    </tr>\n",
       "  </thead>\n",
       "  <tbody>\n",
       "    <tr>\n",
       "      <th>AIC</th>\n",
       "      <td>1.316592e+06</td>\n",
       "    </tr>\n",
       "    <tr>\n",
       "      <th>BIC</th>\n",
       "      <td>1.316594e+06</td>\n",
       "    </tr>\n",
       "  </tbody>\n",
       "</table>\n",
       "</div>"
      ],
      "text/plain": [
       "     statistical measures\n",
       "AIC          1.316592e+06\n",
       "BIC          1.316594e+06"
      ]
     },
     "metadata": {},
     "output_type": "display_data"
    }
   ],
   "source": [
    "jl.set_minimizer(\"ROOT\")\n",
    "_ = jl.fit()\n",
    "\n",
    "#3.15e-11,2.37,42.3"
   ]
  },
  {
   "cell_type": "code",
   "execution_count": 7,
   "metadata": {
    "collapsed": false,
    "deletable": true,
    "editable": true
   },
   "outputs": [
    {
     "name": "stdout",
     "output_type": "stream",
     "text": [
      "2.65251009992e-11 1 / (cm2 s TeV)\n"
     ]
    }
   ],
   "source": [
    "print spectrum(1.0 * u.TeV).to(1/(u.TeV * u.cm**2 * u.s))"
   ]
  }
 ],
 "metadata": {
  "kernelspec": {
   "display_name": "Python 2",
   "language": "python",
   "name": "python2"
  },
  "language_info": {
   "codemirror_mode": {
    "name": "ipython",
    "version": 2
   },
   "file_extension": ".py",
   "mimetype": "text/x-python",
   "name": "python",
   "nbconvert_exporter": "python",
   "pygments_lexer": "ipython2",
   "version": "2.7.12"
  }
 },
 "nbformat": 4,
 "nbformat_minor": 2
}
