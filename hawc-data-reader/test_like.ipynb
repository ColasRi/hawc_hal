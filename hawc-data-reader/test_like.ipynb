{
 "cells": [
  {
   "cell_type": "code",
   "execution_count": 1,
   "metadata": {
    "collapsed": false
   },
   "outputs": [
    {
     "name": "stdout",
     "output_type": "stream",
     "text": [
      "Configuration read from /home/giacomov/.threeML/threeML_config.yml\n",
      "Plotter is MatPlotlib\n"
     ]
    }
   ],
   "source": [
    "from threeML import *\n",
    "from HAWCpyLike import HAWCpyLike\n",
    "import region_of_interest\n",
    "\n",
    "%matplotlib notebook"
   ]
  },
  {
   "cell_type": "code",
   "execution_count": 14,
   "metadata": {
    "collapsed": false
   },
   "outputs": [
    {
     "name": "stdout",
     "output_type": "stream",
     "text": [
      "Response: \n",
      "----------\n",
      "\n",
      "Response file: /home/giacomov/develop/hawc-docker/simulated_data/detector_response.root\n",
      "Number of dec bins: 106\n",
      "Number of energy/nHit planes per dec bin: 10\n",
      "\n",
      "Map Tree: \n",
      "----------\n",
      "\n"
     ]
    },
    {
     "data": {
      "text/html": [
       "<div>\n",
       "<style scoped>\n",
       "    .dataframe tbody tr th:only-of-type {\n",
       "        vertical-align: middle;\n",
       "    }\n",
       "\n",
       "    .dataframe tbody tr th {\n",
       "        vertical-align: top;\n",
       "    }\n",
       "\n",
       "    .dataframe thead th {\n",
       "        text-align: right;\n",
       "    }\n",
       "</style>\n",
       "<table border=\"1\" class=\"dataframe\">\n",
       "  <thead>\n",
       "    <tr style=\"text-align: right;\">\n",
       "      <th></th>\n",
       "      <th>Bin</th>\n",
       "      <th>Nside</th>\n",
       "      <th>Scheme</th>\n",
       "      <th>Obs counts</th>\n",
       "      <th>Bkg counts</th>\n",
       "      <th>obs/bkg</th>\n",
       "      <th>Pixels in ROI</th>\n",
       "      <th>Area (deg^2)</th>\n",
       "    </tr>\n",
       "  </thead>\n",
       "  <tbody>\n",
       "    <tr>\n",
       "      <th>0</th>\n",
       "      <td>0</td>\n",
       "      <td>256</td>\n",
       "      <td>RING</td>\n",
       "      <td>1.232866e+09</td>\n",
       "      <td>1.232804e+09</td>\n",
       "      <td>1.000050</td>\n",
       "      <td>1492</td>\n",
       "      <td>78.264132</td>\n",
       "    </tr>\n",
       "    <tr>\n",
       "      <th>1</th>\n",
       "      <td>1</td>\n",
       "      <td>256</td>\n",
       "      <td>RING</td>\n",
       "      <td>8.648596e+07</td>\n",
       "      <td>8.642666e+07</td>\n",
       "      <td>1.000686</td>\n",
       "      <td>1492</td>\n",
       "      <td>78.264132</td>\n",
       "    </tr>\n",
       "    <tr>\n",
       "      <th>2</th>\n",
       "      <td>2</td>\n",
       "      <td>256</td>\n",
       "      <td>RING</td>\n",
       "      <td>2.761620e+07</td>\n",
       "      <td>2.757502e+07</td>\n",
       "      <td>1.001493</td>\n",
       "      <td>1492</td>\n",
       "      <td>78.264132</td>\n",
       "    </tr>\n",
       "    <tr>\n",
       "      <th>3</th>\n",
       "      <td>3</td>\n",
       "      <td>256</td>\n",
       "      <td>RING</td>\n",
       "      <td>7.482597e+06</td>\n",
       "      <td>7.466526e+06</td>\n",
       "      <td>1.002152</td>\n",
       "      <td>1492</td>\n",
       "      <td>78.264132</td>\n",
       "    </tr>\n",
       "    <tr>\n",
       "      <th>4</th>\n",
       "      <td>4</td>\n",
       "      <td>256</td>\n",
       "      <td>RING</td>\n",
       "      <td>9.398600e+05</td>\n",
       "      <td>9.324169e+05</td>\n",
       "      <td>1.007983</td>\n",
       "      <td>1492</td>\n",
       "      <td>78.264132</td>\n",
       "    </tr>\n",
       "    <tr>\n",
       "      <th>5</th>\n",
       "      <td>5</td>\n",
       "      <td>256</td>\n",
       "      <td>RING</td>\n",
       "      <td>2.063070e+05</td>\n",
       "      <td>2.034786e+05</td>\n",
       "      <td>1.013900</td>\n",
       "      <td>1492</td>\n",
       "      <td>78.264132</td>\n",
       "    </tr>\n",
       "    <tr>\n",
       "      <th>6</th>\n",
       "      <td>6</td>\n",
       "      <td>256</td>\n",
       "      <td>RING</td>\n",
       "      <td>3.691200e+04</td>\n",
       "      <td>3.612566e+04</td>\n",
       "      <td>1.021767</td>\n",
       "      <td>1492</td>\n",
       "      <td>78.264132</td>\n",
       "    </tr>\n",
       "    <tr>\n",
       "      <th>7</th>\n",
       "      <td>7</td>\n",
       "      <td>256</td>\n",
       "      <td>RING</td>\n",
       "      <td>2.179900e+04</td>\n",
       "      <td>2.123331e+04</td>\n",
       "      <td>1.026642</td>\n",
       "      <td>1492</td>\n",
       "      <td>78.264132</td>\n",
       "    </tr>\n",
       "    <tr>\n",
       "      <th>8</th>\n",
       "      <td>8</td>\n",
       "      <td>256</td>\n",
       "      <td>RING</td>\n",
       "      <td>5.891000e+03</td>\n",
       "      <td>5.651473e+03</td>\n",
       "      <td>1.042383</td>\n",
       "      <td>1492</td>\n",
       "      <td>78.264132</td>\n",
       "    </tr>\n",
       "    <tr>\n",
       "      <th>9</th>\n",
       "      <td>9</td>\n",
       "      <td>256</td>\n",
       "      <td>RING</td>\n",
       "      <td>8.319000e+03</td>\n",
       "      <td>8.042094e+03</td>\n",
       "      <td>1.034432</td>\n",
       "      <td>1492</td>\n",
       "      <td>78.264132</td>\n",
       "    </tr>\n",
       "  </tbody>\n",
       "</table>\n",
       "</div>"
      ],
      "text/plain": [
       "  Bin  Nside Scheme    Obs counts    Bkg counts   obs/bkg  Pixels in ROI  \\\n",
       "0   0    256   RING  1.232866e+09  1.232804e+09  1.000050           1492   \n",
       "1   1    256   RING  8.648596e+07  8.642666e+07  1.000686           1492   \n",
       "2   2    256   RING  2.761620e+07  2.757502e+07  1.001493           1492   \n",
       "3   3    256   RING  7.482597e+06  7.466526e+06  1.002152           1492   \n",
       "4   4    256   RING  9.398600e+05  9.324169e+05  1.007983           1492   \n",
       "5   5    256   RING  2.063070e+05  2.034786e+05  1.013900           1492   \n",
       "6   6    256   RING  3.691200e+04  3.612566e+04  1.021767           1492   \n",
       "7   7    256   RING  2.179900e+04  2.123331e+04  1.026642           1492   \n",
       "8   8    256   RING  5.891000e+03  5.651473e+03  1.042383           1492   \n",
       "9   9    256   RING  8.319000e+03  8.042094e+03  1.034432           1492   \n",
       "\n",
       "   Area (deg^2)  \n",
       "0     78.264132  \n",
       "1     78.264132  \n",
       "2     78.264132  \n",
       "3     78.264132  \n",
       "4     78.264132  \n",
       "5     78.264132  \n",
       "6     78.264132  \n",
       "7     78.264132  \n",
       "8     78.264132  \n",
       "9     78.264132  "
      ]
     },
     "metadata": {},
     "output_type": "display_data"
    },
    {
     "name": "stdout",
     "output_type": "stream",
     "text": [
      "This Map Tree contains 508.195 transits\n",
      "Total data size: 0.11936 Mbyte\n",
      "\n",
      "Active energy/nHit planes: \n",
      "---------------------------\n",
      "\n",
      "[1, 2, 3, 4, 5, 6, 7, 8, 9]\n"
     ]
    }
   ],
   "source": [
    "# ra_crab, dec_crab = 83.633083, 22.014500\n",
    "\n",
    "# roi = region_of_interest.HealpixConeROI(5.0, ra=ra_crab, dec=dec_crab)\n",
    "\n",
    "# hawc = HAWCpyLike(\"HAWC\", \n",
    "#                   \"/home/giacomov/science/hawc/data/maptree_1024.root\", \n",
    "#                   \"/home/giacomov/science/hawc/data/response.root\",\n",
    "#                  roi)\n",
    "\n",
    "ra_crab, dec_crab = 100.0, 22.0\n",
    "\n",
    "roi = region_of_interest.HealpixConeROI(5.0, ra=ra_crab, dec=dec_crab)\n",
    "\n",
    "hawc = HAWCpyLike(\"HAWC\", \n",
    "                  \"/home/giacomov/develop/hawc-docker/simulated_data/maptree_256.root\", \n",
    "                  \"/home/giacomov/develop/hawc-docker/simulated_data/detector_response.root\",\n",
    "                 roi)\n",
    "\n",
    "hawc.set_active_measurements(1, 9)\n",
    "\n",
    "hawc.display()"
   ]
  },
  {
   "cell_type": "code",
   "execution_count": 15,
   "metadata": {
    "collapsed": false
   },
   "outputs": [
    {
     "name": "stdout",
     "output_type": "stream",
     "text": [
      "Using dec bin 57 for source TestSource\n"
     ]
    },
    {
     "data": {
      "application/vnd.jupyter.widget-view+json": {
       "model_id": "cf91bddb1d7146e0a83a1fe3a8165016"
      }
     },
     "metadata": {},
     "output_type": "display_data"
    }
   ],
   "source": [
    "# spectrum = Log_parabola()\n",
    "\n",
    "# source = PointSource(\"CrabNebula\", ra=ra_crab, dec=dec_crab, spectral_shape=spectrum)\n",
    "\n",
    "# # NOTE: if you use units, you have to set up the values for the parameters\n",
    "# # AFTER you create the source, because during creation the function Log_parabola\n",
    "# # gets its units\n",
    "\n",
    "# spectrum.piv = 10 * u.TeV  # Pivot energy\n",
    "# spectrum.piv.fix = True\n",
    "\n",
    "# spectrum.K = 1e-14 / (u.TeV * u.cm**2 * u.s)  # norm (in 1/(keV cm2 s))\n",
    "# spectrum.K.bounds = (1e-25, 1e-19) # without units energies are in keV\n",
    "\n",
    "# spectrum.beta = 0  # log parabolic beta\n",
    "# spectrum.beta.bounds = (-4., 2.)\n",
    "\n",
    "# spectrum.alpha = -2.5  # log parabolic alpha (index)\n",
    "# spectrum.alpha.bounds = (-4., 2.)\n",
    "\n",
    "# Define the spectral and spatial models for the source\n",
    "spectrum = Cutoff_powerlaw()\n",
    "source = PointSource(\"TestSource\", ra=100.0, dec=22.0, spectral_shape=spectrum)\n",
    "\n",
    "spectrum.K = 3.15e-11 / (u.TeV * u.cm ** 2 * u.s)\n",
    "spectrum.K.bounds = (1e-22, 1e-18)  # without units energies are in keV\n",
    "\n",
    "spectrum.piv = 1 * u.TeV\n",
    "spectrum.piv.fix = True\n",
    "\n",
    "spectrum.index = -2.37\n",
    "spectrum.index.bounds = (-4, -1)\n",
    "\n",
    "spectrum.xc = 42.3 * u.TeV\n",
    "spectrum.xc.bounds = (1 * u.TeV, 100 * u.TeV)\n",
    "\n",
    "\n",
    "model = Model(source)\n",
    "\n",
    "data = DataList(hawc)\n",
    "\n",
    "jl = JointLikelihood(model, data)"
   ]
  },
  {
   "cell_type": "code",
   "execution_count": 16,
   "metadata": {
    "collapsed": false
   },
   "outputs": [
    {
     "data": {
      "text/latex": [
       "$0.11936 \\; \\mathrm{Mbyte}$"
      ],
      "text/plain": [
       "<Quantity 0.11936 Mbyte>"
      ]
     },
     "execution_count": 16,
     "metadata": {},
     "output_type": "execute_result"
    }
   ],
   "source": [
    "hawc._convolved_point_sources.size"
   ]
  },
  {
   "cell_type": "code",
   "execution_count": 18,
   "metadata": {
    "collapsed": false
   },
   "outputs": [
    {
     "data": {
      "text/plain": [
       "-61963.576584007118"
      ]
     },
     "execution_count": 18,
     "metadata": {},
     "output_type": "execute_result"
    }
   ],
   "source": [
    "hawc.get_log_like()\n",
    "\n",
    "#-310426.9997955779"
   ]
  },
  {
   "cell_type": "code",
   "execution_count": 19,
   "metadata": {
    "collapsed": false
   },
   "outputs": [
    {
     "name": "stdout",
     "output_type": "stream",
     "text": [
      "Best fit values:\n",
      "\n"
     ]
    },
    {
     "name": "stderr",
     "output_type": "stream",
     "text": [
      "\n",
      "WARNING UserWarning: 14.58 percent of samples have been thrown away because they failed the constraints on the parameters. This results might not be suitable for error propagation. Enlarge the boundaries until you loose less than 1 percent of the samples.\n",
      "\n"
     ]
    },
    {
     "data": {
      "text/html": [
       "<div>\n",
       "<style scoped>\n",
       "    .dataframe tbody tr th:only-of-type {\n",
       "        vertical-align: middle;\n",
       "    }\n",
       "\n",
       "    .dataframe tbody tr th {\n",
       "        vertical-align: top;\n",
       "    }\n",
       "\n",
       "    .dataframe thead th {\n",
       "        text-align: right;\n",
       "    }\n",
       "</style>\n",
       "<table border=\"1\" class=\"dataframe\">\n",
       "  <thead>\n",
       "    <tr style=\"text-align: right;\">\n",
       "      <th></th>\n",
       "      <th>result</th>\n",
       "      <th>unit</th>\n",
       "    </tr>\n",
       "    <tr>\n",
       "      <th>parameter</th>\n",
       "      <th></th>\n",
       "      <th></th>\n",
       "    </tr>\n",
       "  </thead>\n",
       "  <tbody>\n",
       "    <tr>\n",
       "      <th>TestSource.spectrum.main.Cutoff_powerlaw.K</th>\n",
       "      <td>(3.46 -0.20 +0.22) x 10^-19</td>\n",
       "      <td>1 / (cm2 keV s)</td>\n",
       "    </tr>\n",
       "    <tr>\n",
       "      <th>TestSource.spectrum.main.Cutoff_powerlaw.index</th>\n",
       "      <td>-2.470 +/- 0.04</td>\n",
       "      <td></td>\n",
       "    </tr>\n",
       "    <tr>\n",
       "      <th>TestSource.spectrum.main.Cutoff_powerlaw.xc</th>\n",
       "      <td>(8.6 -1.2 +1.4) x 10^10</td>\n",
       "      <td>keV</td>\n",
       "    </tr>\n",
       "  </tbody>\n",
       "</table>\n",
       "</div>"
      ],
      "text/plain": [
       "                                                                     result  \\\n",
       "parameter                                                                     \n",
       "TestSource.spectrum.main.Cutoff_powerlaw.K      (3.46 -0.20 +0.22) x 10^-19   \n",
       "TestSource.spectrum.main.Cutoff_powerlaw.index              -2.470 +/- 0.04   \n",
       "TestSource.spectrum.main.Cutoff_powerlaw.xc         (8.6 -1.2 +1.4) x 10^10   \n",
       "\n",
       "                                                           unit  \n",
       "parameter                                                        \n",
       "TestSource.spectrum.main.Cutoff_powerlaw.K      1 / (cm2 keV s)  \n",
       "TestSource.spectrum.main.Cutoff_powerlaw.index                   \n",
       "TestSource.spectrum.main.Cutoff_powerlaw.xc                 keV  "
      ]
     },
     "metadata": {},
     "output_type": "display_data"
    },
    {
     "name": "stdout",
     "output_type": "stream",
     "text": [
      "\n",
      "Correlation matrix:\n",
      "\n"
     ]
    },
    {
     "data": {
      "text/html": [
       "<table id=\"table139918000901200\">\n",
       "<tr><td>1.00</td><td>-0.95</td><td>0.76</td></tr>\n",
       "<tr><td>-0.95</td><td>1.00</td><td>-0.92</td></tr>\n",
       "<tr><td>0.76</td><td>-0.92</td><td>1.00</td></tr>\n",
       "</table>"
      ],
      "text/plain": [
       " 1.00 -0.95  0.76\n",
       "-0.95  1.00 -0.92\n",
       " 0.76 -0.92  1.00"
      ]
     },
     "metadata": {},
     "output_type": "display_data"
    },
    {
     "name": "stdout",
     "output_type": "stream",
     "text": [
      "\n",
      "Values of -log(likelihood) at the minimum:\n",
      "\n"
     ]
    },
    {
     "data": {
      "text/html": [
       "<div>\n",
       "<style scoped>\n",
       "    .dataframe tbody tr th:only-of-type {\n",
       "        vertical-align: middle;\n",
       "    }\n",
       "\n",
       "    .dataframe tbody tr th {\n",
       "        vertical-align: top;\n",
       "    }\n",
       "\n",
       "    .dataframe thead th {\n",
       "        text-align: right;\n",
       "    }\n",
       "</style>\n",
       "<table border=\"1\" class=\"dataframe\">\n",
       "  <thead>\n",
       "    <tr style=\"text-align: right;\">\n",
       "      <th></th>\n",
       "      <th>-log(likelihood)</th>\n",
       "    </tr>\n",
       "  </thead>\n",
       "  <tbody>\n",
       "    <tr>\n",
       "      <th>HAWC</th>\n",
       "      <td>57461.633084</td>\n",
       "    </tr>\n",
       "    <tr>\n",
       "      <th>total</th>\n",
       "      <td>57461.633084</td>\n",
       "    </tr>\n",
       "  </tbody>\n",
       "</table>\n",
       "</div>"
      ],
      "text/plain": [
       "       -log(likelihood)\n",
       "HAWC       57461.633084\n",
       "total      57461.633084"
      ]
     },
     "metadata": {},
     "output_type": "display_data"
    },
    {
     "name": "stdout",
     "output_type": "stream",
     "text": [
      "\n",
      "Values of statistical measures:\n",
      "\n"
     ]
    },
    {
     "data": {
      "text/html": [
       "<div>\n",
       "<style scoped>\n",
       "    .dataframe tbody tr th:only-of-type {\n",
       "        vertical-align: middle;\n",
       "    }\n",
       "\n",
       "    .dataframe tbody tr th {\n",
       "        vertical-align: top;\n",
       "    }\n",
       "\n",
       "    .dataframe thead th {\n",
       "        text-align: right;\n",
       "    }\n",
       "</style>\n",
       "<table border=\"1\" class=\"dataframe\">\n",
       "  <thead>\n",
       "    <tr style=\"text-align: right;\">\n",
       "      <th></th>\n",
       "      <th>statistical measures</th>\n",
       "    </tr>\n",
       "  </thead>\n",
       "  <tbody>\n",
       "    <tr>\n",
       "      <th>AIC</th>\n",
       "      <td>114921.266168</td>\n",
       "    </tr>\n",
       "    <tr>\n",
       "      <th>BIC</th>\n",
       "      <td>114923.266168</td>\n",
       "    </tr>\n",
       "  </tbody>\n",
       "</table>\n",
       "</div>"
      ],
      "text/plain": [
       "     statistical measures\n",
       "AIC         114921.266168\n",
       "BIC         114923.266168"
      ]
     },
     "metadata": {},
     "output_type": "display_data"
    }
   ],
   "source": [
    "jl.set_minimizer(\"ROOT\")\n",
    "_ = jl.fit()\n",
    "\n",
    "3.15e-11,2.37,42.3"
   ]
  },
  {
   "cell_type": "code",
   "execution_count": 21,
   "metadata": {
    "collapsed": false
   },
   "outputs": [
    {
     "name": "stdout",
     "output_type": "stream",
     "text": [
      "5.70665904381e-11 1 / (cm2 s TeV)\n"
     ]
    }
   ],
   "source": [
    "print spectrum(1.0 * u.TeV).to(1/(u.TeV * u.cm**2 * u.s)) / 6"
   ]
  },
  {
   "cell_type": "code",
   "execution_count": 9,
   "metadata": {
    "collapsed": false
   },
   "outputs": [
    {
     "name": "stdout",
     "output_type": "stream",
     "text": [
      "6.30202768925\n"
     ]
    }
   ],
   "source": [
    "print 1.49499587383e-10 / 2.37224580333e-11"
   ]
  },
  {
   "cell_type": "code",
   "execution_count": 12,
   "metadata": {
    "collapsed": false
   },
   "outputs": [
    {
     "name": "stdout",
     "output_type": "stream",
     "text": [
      "1001316.32165\n"
     ]
    }
   ],
   "source": [
    "import healpy as hp\n",
    "\n",
    "print 1 / hp.nside2pixarea(1024)"
   ]
  },
  {
   "cell_type": "code",
   "execution_count": null,
   "metadata": {
    "collapsed": true
   },
   "outputs": [],
   "source": []
  }
 ],
 "metadata": {
  "kernelspec": {
   "display_name": "Python 2",
   "language": "python",
   "name": "python2"
  },
  "language_info": {
   "codemirror_mode": {
    "name": "ipython",
    "version": 2
   },
   "file_extension": ".py",
   "mimetype": "text/x-python",
   "name": "python",
   "nbconvert_exporter": "python",
   "pygments_lexer": "ipython2",
   "version": "2.7.12"
  }
 },
 "nbformat": 4,
 "nbformat_minor": 2
}
